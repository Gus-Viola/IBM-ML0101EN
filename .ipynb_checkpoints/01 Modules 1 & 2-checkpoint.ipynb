{
 "cells": [
  {
   "cell_type": "markdown",
   "metadata": {},
   "source": [
    "# Module 1: Machine Learning"
   ]
  },
  {
   "cell_type": "markdown",
   "metadata": {},
   "source": [
    "### Machine Learning \n",
    "\n",
    "ML uses algorithms that can learn from data without relying on explicitely programmed methods."
   ]
  },
  {
   "cell_type": "markdown",
   "metadata": {},
   "source": [
    "### Python Tools:\n",
    "* numpy:      A math library to work with n-dimensional arrays, enablingyou to do computation efficiently and effectively.\n",
    "* scipy:      A collection of numerical algorithms and domain-specific toolboxes, and a good library for scientific and high-performance computation.\n",
    "* matplotlib: A popular plotting package that provides 2D plotting as well as 3D plotting.\n",
    "\n",
    "* pandas:     A library that provides high-performance, easy to use data structures.\n",
    "* scikit-learn:    A collection of algorithms and tools for machine learning."
   ]
  },
  {
   "cell_type": "markdown",
   "metadata": {},
   "source": [
    "### Supervised Learning\n",
    "\n",
    "SL-Classification classifies *labeled* data. Classification is a **categorical** prediction; Regression is a **numerical** prediction.\n",
    "\n",
    "### Unsupervised Learning\n",
    "* UL has fewer evaluation methods than SL, and more complex algorithms.\n",
    "* **Dimension Reduction** reduces the number of parameters.\n",
    "* **Density Estimation** is a simple concept to explore underlying structures in the data.\n",
    "* **Market Basket Analysis** considers, for example, which items are customarily bought together.\n",
    "* **Clustering** - the most popular UL technique - groups data points that are similar. It is used mostly for: Discovering structure, Summarization, and Anomaly detection. UL-Clustering classifies *unlabeled* data."
   ]
  },
  {
   "cell_type": "markdown",
   "metadata": {},
   "source": [
    "# Module 2: Regression"
   ]
  },
  {
   "cell_type": "code",
   "execution_count": null,
   "metadata": {},
   "outputs": [],
   "source": []
  },
  {
   "cell_type": "code",
   "execution_count": null,
   "metadata": {},
   "outputs": [],
   "source": []
  },
  {
   "cell_type": "code",
   "execution_count": null,
   "metadata": {},
   "outputs": [],
   "source": []
  },
  {
   "cell_type": "code",
   "execution_count": null,
   "metadata": {},
   "outputs": [],
   "source": []
  },
  {
   "cell_type": "code",
   "execution_count": null,
   "metadata": {},
   "outputs": [],
   "source": []
  },
  {
   "cell_type": "code",
   "execution_count": null,
   "metadata": {},
   "outputs": [],
   "source": []
  }
 ],
 "metadata": {
  "kernelspec": {
   "display_name": "Python 3",
   "language": "python",
   "name": "python3"
  },
  "language_info": {
   "codemirror_mode": {
    "name": "ipython",
    "version": 3
   },
   "file_extension": ".py",
   "mimetype": "text/x-python",
   "name": "python",
   "nbconvert_exporter": "python",
   "pygments_lexer": "ipython3",
   "version": "3.7.3"
  }
 },
 "nbformat": 4,
 "nbformat_minor": 2
}

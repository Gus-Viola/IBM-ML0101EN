{
 "cells": [
  {
   "cell_type": "markdown",
   "metadata": {},
   "source": [
    "# Module 3: Classification\n",
    "\n",
    "+ K-Nearest Neighbors\n",
    "+ Decision Trees \n",
    "+ Support Vector Machines\n",
    "+ Logistic Regressio"
   ]
  },
  {
   "cell_type": "markdown",
   "metadata": {},
   "source": [
    "+ Classification is a supervised machine learning approach, which can be thought of as a means of categorizing or \"classifying\" some unknown items into a discrete set of \"classes.\"\n",
    "+ Classification attempts to learn the relationship between a set of feature variables and a target variable.\n",
    "+ Given a set of training data points, along with the target labels - hence, it is _supervised_ -, classification determines the class label for an unlabeled test case.\n",
    "+  Types of classification algorithms in machine learning include: **Decision Trees**, Naïve Bayes, Linear Discriminant Analysis, **K-nearest neighbor, Logistic regression**, Neural Networks, and **Support Vector Machines**. The ones in **bold** will be addressed here."
   ]
  },
  {
   "cell_type": "markdown",
   "metadata": {},
   "source": [
    "### K-Nearest Neighbors\n",
    "+ Classifier divides data in clusters.\n",
    "+ It classifies according to the nearest neighboors of the unlabeled data. How many neighbors? That is K.\n",
    "+ K-nearest neighbors is based on this paradigm: “Similar cases with the same class labels are _near_ each other.”\n",
    "+ What is _near_ ? Euclidean distance? Sometimes, yes.\n",
    "+ Two parts of this algorithm may be discussed: first, how to select the correct K; and second, how to compute the similarity between cases, for example, among customers?"
   ]
  },
  {
   "cell_type": "code",
   "execution_count": null,
   "metadata": {},
   "outputs": [],
   "source": []
  },
  {
   "cell_type": "code",
   "execution_count": null,
   "metadata": {},
   "outputs": [],
   "source": []
  },
  {
   "cell_type": "code",
   "execution_count": null,
   "metadata": {},
   "outputs": [],
   "source": []
  },
  {
   "cell_type": "code",
   "execution_count": null,
   "metadata": {},
   "outputs": [],
   "source": []
  }
 ],
 "metadata": {
  "kernelspec": {
   "display_name": "Python 3",
   "language": "python",
   "name": "python3"
  },
  "language_info": {
   "codemirror_mode": {
    "name": "ipython",
    "version": 3
   },
   "file_extension": ".py",
   "mimetype": "text/x-python",
   "name": "python",
   "nbconvert_exporter": "python",
   "pygments_lexer": "ipython3",
   "version": "3.7.3"
  }
 },
 "nbformat": 4,
 "nbformat_minor": 2
}
